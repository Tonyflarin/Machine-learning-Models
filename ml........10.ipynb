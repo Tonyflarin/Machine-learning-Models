{
 "cells": [
  {
   "cell_type": "code",
   "execution_count": null,
   "id": "2d340ba4",
   "metadata": {},
   "outputs": [],
   "source": [
    "#Single input and single output features then use Simple linear regression\n",
    "#linear equation y=mx+c\n",
    "#where y=independent variable\n",
    "      #m=slope of the line\n",
    "      #x=dependent variable\n",
    "      #c=intercept\n",
    "import pandas as pd\n",
    "import seaborn as sns\n",
    "import numpy as np\n",
    "from matplotlib import pyplot as plt\n",
    "n=pd.read_csv(r\"C:\\Users\\tonyf\\Downloads\\imdb.csv\")\n",
    "n.head()"
   ]
  },
  {
   "cell_type": "code",
   "execution_count": null,
   "id": "1744fe70",
   "metadata": {},
   "outputs": [],
   "source": [
    "n.isnull().sum()"
   ]
  },
  {
   "cell_type": "code",
   "execution_count": null,
   "id": "e5a907a7",
   "metadata": {},
   "outputs": [],
   "source": [
    "n[\"Metascore\"].fillna(n[\"Metascore\"].mode()[0],inplace=True)"
   ]
  },
  {
   "cell_type": "code",
   "execution_count": null,
   "id": "4ca958ec",
   "metadata": {},
   "outputs": [],
   "source": [
    "n.describe()"
   ]
  },
  {
   "cell_type": "code",
   "execution_count": null,
   "id": "f988e622",
   "metadata": {},
   "outputs": [],
   "source": [
    "#To check wether the given data are following Linear Regression\n",
    "\n",
    "sns.scatterplot(x=\"Metascore\",y=\"IMDB Rating\",data=n)\n",
    "plt.show()"
   ]
  },
  {
   "cell_type": "code",
   "execution_count": null,
   "id": "97722f5c",
   "metadata": {},
   "outputs": [],
   "source": [
    "x=n[[\"Metascore\"]]\n",
    "y=n[[\"IMDB Rating\"]]"
   ]
  },
  {
   "cell_type": "code",
   "execution_count": null,
   "id": "4275bbc6",
   "metadata": {},
   "outputs": [],
   "source": [
    "from sklearn.model_selection import train_test_split\n",
    "x_train , x_test, y_train ,y_test = train_test_split(x,y,test_size=0.2,random_state=42)"
   ]
  },
  {
   "cell_type": "code",
   "execution_count": null,
   "id": "c9d1b5de",
   "metadata": {},
   "outputs": [],
   "source": [
    "from sklearn.linear_model import LinearRegression \n",
    "lr=LinearRegression()\n",
    "lr.fit(x_train,y_train)\n",
    "lr.predict([[100]])"
   ]
  },
  {
   "cell_type": "code",
   "execution_count": null,
   "id": "bf29873f",
   "metadata": {},
   "outputs": [],
   "source": [
    "#To check wether good or bod accuracy\n",
    "lr.score(x_test,y_test)*100"
   ]
  },
  {
   "cell_type": "code",
   "execution_count": null,
   "id": "3026d2ff",
   "metadata": {},
   "outputs": [],
   "source": [
    "#y=m*x+c\n",
    "# lr.coef_= m\n",
    "lr.coef_"
   ]
  },
  {
   "cell_type": "code",
   "execution_count": null,
   "id": "ebe20ebb",
   "metadata": {},
   "outputs": [],
   "source": [
    "#c=\n",
    "lr.intercept_"
   ]
  },
  {
   "cell_type": "code",
   "execution_count": null,
   "id": "04bf9735",
   "metadata": {},
   "outputs": [],
   "source": [
    "#m*x+c\n",
    "#predicted value and checked value are same\n",
    "\n",
    "0.03720341*100+4.64001903"
   ]
  },
  {
   "cell_type": "code",
   "execution_count": null,
   "id": "6adae58d",
   "metadata": {},
   "outputs": [],
   "source": [
    "#y_predict stores the content of IMDB rating \n",
    "y_prd=lr.predict(x)"
   ]
  },
  {
   "cell_type": "code",
   "execution_count": null,
   "id": "1eb70e9e",
   "metadata": {},
   "outputs": [],
   "source": [
    "#To check wether where the linear line is present\n",
    "sns.scatterplot(x=\"Metascore\",y=\"IMDB Rating\",data=n)\n",
    "\n",
    "#ploting the line in terms of Y\n",
    "plt.plot(n[\"Metascore\"],y_prd,c=\"red\")\n",
    "\n",
    "#legend function\n",
    "plt.legend([\"orginal_data\",\"predict_line\"])\n",
    "\n",
    "#to save the image\n",
    "plt.savefig(\"predict_line.jpg\")\n",
    "plt.show()"
   ]
  },
  {
   "cell_type": "code",
   "execution_count": null,
   "id": "54c4a739",
   "metadata": {},
   "outputs": [],
   "source": []
  }
 ],
 "metadata": {
  "kernelspec": {
   "display_name": "Python 3 (ipykernel)",
   "language": "python",
   "name": "python3"
  },
  "language_info": {
   "codemirror_mode": {
    "name": "ipython",
    "version": 3
   },
   "file_extension": ".py",
   "mimetype": "text/x-python",
   "name": "python",
   "nbconvert_exporter": "python",
   "pygments_lexer": "ipython3",
   "version": "3.11.5"
  }
 },
 "nbformat": 4,
 "nbformat_minor": 5
}
