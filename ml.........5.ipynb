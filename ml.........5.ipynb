{
 "cells": [
  {
   "cell_type": "code",
   "execution_count": 1,
   "id": "d4af4372",
   "metadata": {},
   "outputs": [
    {
     "data": {
      "text/html": [
       "<div>\n",
       "<style scoped>\n",
       "    .dataframe tbody tr th:only-of-type {\n",
       "        vertical-align: middle;\n",
       "    }\n",
       "\n",
       "    .dataframe tbody tr th {\n",
       "        vertical-align: top;\n",
       "    }\n",
       "\n",
       "    .dataframe thead th {\n",
       "        text-align: right;\n",
       "    }\n",
       "</style>\n",
       "<table border=\"1\" class=\"dataframe\">\n",
       "  <thead>\n",
       "    <tr style=\"text-align: right;\">\n",
       "      <th></th>\n",
       "      <th>Timestamp</th>\n",
       "      <th>Your Sex?</th>\n",
       "      <th>Your Matric (grade 12) Average/ GPA (in %)</th>\n",
       "      <th>What year were you in last year (2023) ?</th>\n",
       "      <th>What faculty does your degree fall under?</th>\n",
       "      <th>Your 2023 academic year average/GPA in % (Ignore if you are 2024 1st year student)</th>\n",
       "      <th>Your Accommodation Status Last Year (2023)</th>\n",
       "      <th>Monthly Allowance in 2023</th>\n",
       "      <th>Were you on scholarship/bursary in 2023?</th>\n",
       "      <th>Additional amount of studying (in hrs) per week</th>\n",
       "      <th>How often do you go out partying/socialising during the week?</th>\n",
       "      <th>On a night out, how many alcoholic drinks do you consume?</th>\n",
       "      <th>How many classes do you miss per week due to alcohol reasons, (i.e: being hungover or too tired?)</th>\n",
       "      <th>How many modules have you failed thus far into your studies?</th>\n",
       "      <th>Are you currently in a romantic relationship?</th>\n",
       "      <th>Do your parents approve alcohol consumption?</th>\n",
       "      <th>How strong is your relationship with your parent/s?</th>\n",
       "    </tr>\n",
       "  </thead>\n",
       "  <tbody>\n",
       "    <tr>\n",
       "      <th>0</th>\n",
       "      <td>2024/03/07 5:12:01 pm EET</td>\n",
       "      <td>Female</td>\n",
       "      <td>76.0</td>\n",
       "      <td>2nd Year</td>\n",
       "      <td>Arts &amp; Social Sciences</td>\n",
       "      <td>72.0</td>\n",
       "      <td>Private accommodation/ stay with family/friends</td>\n",
       "      <td>R 4001- R 5000</td>\n",
       "      <td>No</td>\n",
       "      <td>8+</td>\n",
       "      <td>Only weekends</td>\n",
       "      <td>8+</td>\n",
       "      <td>3</td>\n",
       "      <td>0</td>\n",
       "      <td>Yes</td>\n",
       "      <td>Yes</td>\n",
       "      <td>Very close</td>\n",
       "    </tr>\n",
       "    <tr>\n",
       "      <th>1</th>\n",
       "      <td>2024/03/07 5:12:08 pm EET</td>\n",
       "      <td>Male</td>\n",
       "      <td>89.0</td>\n",
       "      <td>2nd Year</td>\n",
       "      <td>Economic &amp; Management Sciences</td>\n",
       "      <td>75.0</td>\n",
       "      <td>Private accommodation/ stay with family/friends</td>\n",
       "      <td>R 7001 - R 8000</td>\n",
       "      <td>Yes (NSFAS, etc...)</td>\n",
       "      <td>8+</td>\n",
       "      <td>Only weekends</td>\n",
       "      <td>3-5</td>\n",
       "      <td>4+</td>\n",
       "      <td>0</td>\n",
       "      <td>No</td>\n",
       "      <td>Yes</td>\n",
       "      <td>Very close</td>\n",
       "    </tr>\n",
       "  </tbody>\n",
       "</table>\n",
       "</div>"
      ],
      "text/plain": [
       "                   Timestamp Your Sex?  \\\n",
       "0  2024/03/07 5:12:01 pm EET    Female   \n",
       "1  2024/03/07 5:12:08 pm EET      Male   \n",
       "\n",
       "   Your Matric (grade 12) Average/ GPA (in %)  \\\n",
       "0                                        76.0   \n",
       "1                                        89.0   \n",
       "\n",
       "  What year were you in last year (2023) ?  \\\n",
       "0                                 2nd Year   \n",
       "1                                 2nd Year   \n",
       "\n",
       "  What faculty does your degree fall under?  \\\n",
       "0                    Arts & Social Sciences   \n",
       "1            Economic & Management Sciences   \n",
       "\n",
       "   Your 2023 academic year average/GPA in % (Ignore if you are 2024 1st year student)  \\\n",
       "0                                               72.0                                    \n",
       "1                                               75.0                                    \n",
       "\n",
       "        Your Accommodation Status Last Year (2023) Monthly Allowance in 2023  \\\n",
       "0  Private accommodation/ stay with family/friends            R 4001- R 5000   \n",
       "1  Private accommodation/ stay with family/friends           R 7001 - R 8000   \n",
       "\n",
       "  Were you on scholarship/bursary in 2023?  \\\n",
       "0                                       No   \n",
       "1                      Yes (NSFAS, etc...)   \n",
       "\n",
       "  Additional amount of studying (in hrs) per week  \\\n",
       "0                                              8+   \n",
       "1                                              8+   \n",
       "\n",
       "  How often do you go out partying/socialising during the week?   \\\n",
       "0                                      Only weekends               \n",
       "1                                      Only weekends               \n",
       "\n",
       "  On a night out, how many alcoholic drinks do you consume?  \\\n",
       "0                                                 8+          \n",
       "1                                                3-5          \n",
       "\n",
       "  How many classes do you miss per week due to alcohol reasons, (i.e: being hungover or too tired?)  \\\n",
       "0                                                  3                                                  \n",
       "1                                                 4+                                                  \n",
       "\n",
       "  How many modules have you failed thus far into your studies?  \\\n",
       "0                                                  0             \n",
       "1                                                  0             \n",
       "\n",
       "  Are you currently in a romantic relationship?  \\\n",
       "0                                           Yes   \n",
       "1                                            No   \n",
       "\n",
       "  Do your parents approve alcohol consumption?  \\\n",
       "0                                          Yes   \n",
       "1                                          Yes   \n",
       "\n",
       "  How strong is your relationship with your parent/s?  \n",
       "0                                         Very close   \n",
       "1                                         Very close   "
      ]
     },
     "execution_count": 1,
     "metadata": {},
     "output_type": "execute_result"
    }
   ],
   "source": [
    "#removing the outliers involves 2 method\n",
    "#1. IQR(inter quantile range) method\n",
    "#2. direct method\n",
    "#3. z-score method\n",
    "\n",
    "import numpy as np\n",
    "import pandas as pd\n",
    "import seaborn as sns\n",
    "from matplotlib import pyplot as plt\n",
    "n=pd.read_csv(\"asd.csv\")\n",
    "n.head(2)"
   ]
  },
  {
   "cell_type": "code",
   "execution_count": 2,
   "id": "6bbf3671",
   "metadata": {},
   "outputs": [
    {
     "name": "stdout",
     "output_type": "stream",
     "text": [
      "<class 'pandas.core.frame.DataFrame'>\n",
      "RangeIndex: 406 entries, 0 to 405\n",
      "Data columns (total 17 columns):\n",
      " #   Column                                                                                             Non-Null Count  Dtype  \n",
      "---  ------                                                                                             --------------  -----  \n",
      " 0   Timestamp                                                                                          406 non-null    object \n",
      " 1   Your Sex?                                                                                          404 non-null    object \n",
      " 2   Your Matric (grade 12) Average/ GPA (in %)                                                         399 non-null    float64\n",
      " 3   What year were you in last year (2023) ?                                                           333 non-null    object \n",
      " 4   What faculty does your degree fall under?                                                          399 non-null    object \n",
      " 5   Your 2023 academic year average/GPA in % (Ignore if you are 2024 1st year student)                 320 non-null    float64\n",
      " 6   Your Accommodation Status Last Year (2023)                                                         383 non-null    object \n",
      " 7   Monthly Allowance in 2023                                                                          375 non-null    object \n",
      " 8   Were you on scholarship/bursary in 2023?                                                           398 non-null    object \n",
      " 9   Additional amount of studying (in hrs) per week                                                    403 non-null    object \n",
      " 10  How often do you go out partying/socialising during the week?                                      404 non-null    object \n",
      " 11  On a night out, how many alcoholic drinks do you consume?                                          404 non-null    object \n",
      " 12  How many classes do you miss per week due to alcohol reasons, (i.e: being hungover or too tired?)  403 non-null    object \n",
      " 13  How many modules have you failed thus far into your studies?                                       403 non-null    object \n",
      " 14  Are you currently in a romantic relationship?                                                      403 non-null    object \n",
      " 15  Do your parents approve alcohol consumption?                                                       402 non-null    object \n",
      " 16  How strong is your relationship with your parent/s?                                                403 non-null    object \n",
      "dtypes: float64(2), object(15)\n",
      "memory usage: 54.1+ KB\n"
     ]
    }
   ],
   "source": [
    "n.info()"
   ]
  },
  {
   "cell_type": "code",
   "execution_count": 3,
   "id": "22e4302e",
   "metadata": {},
   "outputs": [
    {
     "data": {
      "text/html": [
       "<div>\n",
       "<style scoped>\n",
       "    .dataframe tbody tr th:only-of-type {\n",
       "        vertical-align: middle;\n",
       "    }\n",
       "\n",
       "    .dataframe tbody tr th {\n",
       "        vertical-align: top;\n",
       "    }\n",
       "\n",
       "    .dataframe thead th {\n",
       "        text-align: right;\n",
       "    }\n",
       "</style>\n",
       "<table border=\"1\" class=\"dataframe\">\n",
       "  <thead>\n",
       "    <tr style=\"text-align: right;\">\n",
       "      <th></th>\n",
       "      <th>Your Matric (grade 12) Average/ GPA (in %)</th>\n",
       "      <th>Your 2023 academic year average/GPA in % (Ignore if you are 2024 1st year student)</th>\n",
       "    </tr>\n",
       "  </thead>\n",
       "  <tbody>\n",
       "    <tr>\n",
       "      <th>count</th>\n",
       "      <td>399.000000</td>\n",
       "      <td>320.000000</td>\n",
       "    </tr>\n",
       "    <tr>\n",
       "      <th>mean</th>\n",
       "      <td>77.989724</td>\n",
       "      <td>66.268469</td>\n",
       "    </tr>\n",
       "    <tr>\n",
       "      <th>std</th>\n",
       "      <td>7.048618</td>\n",
       "      <td>9.147906</td>\n",
       "    </tr>\n",
       "    <tr>\n",
       "      <th>min</th>\n",
       "      <td>34.000000</td>\n",
       "      <td>30.000000</td>\n",
       "    </tr>\n",
       "    <tr>\n",
       "      <th>25%</th>\n",
       "      <td>74.000000</td>\n",
       "      <td>60.000000</td>\n",
       "    </tr>\n",
       "    <tr>\n",
       "      <th>50%</th>\n",
       "      <td>78.000000</td>\n",
       "      <td>65.000000</td>\n",
       "    </tr>\n",
       "    <tr>\n",
       "      <th>75%</th>\n",
       "      <td>83.000000</td>\n",
       "      <td>73.000000</td>\n",
       "    </tr>\n",
       "    <tr>\n",
       "      <th>max</th>\n",
       "      <td>99.000000</td>\n",
       "      <td>95.220000</td>\n",
       "    </tr>\n",
       "  </tbody>\n",
       "</table>\n",
       "</div>"
      ],
      "text/plain": [
       "       Your Matric (grade 12) Average/ GPA (in %)  \\\n",
       "count                                  399.000000   \n",
       "mean                                    77.989724   \n",
       "std                                      7.048618   \n",
       "min                                     34.000000   \n",
       "25%                                     74.000000   \n",
       "50%                                     78.000000   \n",
       "75%                                     83.000000   \n",
       "max                                     99.000000   \n",
       "\n",
       "       Your 2023 academic year average/GPA in % (Ignore if you are 2024 1st year student)  \n",
       "count                                         320.000000                                   \n",
       "mean                                           66.268469                                   \n",
       "std                                             9.147906                                   \n",
       "min                                            30.000000                                   \n",
       "25%                                            60.000000                                   \n",
       "50%                                            65.000000                                   \n",
       "75%                                            73.000000                                   \n",
       "max                                            95.220000                                   "
      ]
     },
     "execution_count": 3,
     "metadata": {},
     "output_type": "execute_result"
    }
   ],
   "source": [
    "#to check min and max value\n",
    "\n",
    "n.describe()"
   ]
  },
  {
   "cell_type": "code",
   "execution_count": 4,
   "id": "0dd1083c",
   "metadata": {},
   "outputs": [
    {
     "data": {
      "image/png": "[encoded data removed]",
      "text/plain": [
       "<Figure size 1500x500 with 1 Axes>"
      ]
     },
     "metadata": {},
     "output_type": "display_data"
    }
   ],
   "source": [
    "#boxplot to check outliers(dots)\n",
    "\n",
    "plt.figure(figsize=(15,5))\n",
    "sns.boxplot(x=\"Your Matric (grade 12) Average/ GPA (in %)\",data=n)\n",
    "plt.show()"
   ]
  },
  {
   "cell_type": "code",
   "execution_count": 5,
   "id": "0f83f619",
   "metadata": {},
   "outputs": [
    {
     "name": "stderr",
     "output_type": "stream",
     "text": [
      "C:\\Users\\tonyf\\AppData\\Local\\Temp\\ipykernel_12420\\838383996.py:5: UserWarning: \n",
      "\n",
      "`distplot` is a deprecated function and will be removed in seaborn v0.14.0.\n",
      "\n",
      "Please adapt your code to use either `displot` (a figure-level function with\n",
      "similar flexibility) or `histplot` (an axes-level function for histograms).\n",
      "\n",
      "For a guide to updating your code to use the new functions, please see\n",
      "https://gist.github.com/mwaskom/de44147ed2974457ad6372750bbe5751\n",
      "\n",
      "  sns.distplot(n[\"Your Matric (grade 12) Average/ GPA (in %)\"])\n"
     ]
    },
    {
     "data": {
      "image/png": "[encoded data removed]",
      "text/plain": [
       "<Figure size 1500x500 with 1 Axes>"
      ]
     },
     "metadata": {},
     "output_type": "display_data"
    }
   ],
   "source": [
    "#distplot to check outliers(dots)\n",
    "\n",
    "\n",
    "plt.figure(figsize=(15,5))\n",
    "sns.distplot(n[\"Your Matric (grade 12) Average/ GPA (in %)\"])\n",
    "plt.show()"
   ]
  },
  {
   "cell_type": "code",
   "execution_count": 6,
   "id": "1cdd198a",
   "metadata": {},
   "outputs": [
    {
     "data": {
      "text/plain": [
       "(406, 17)"
      ]
     },
     "execution_count": 6,
     "metadata": {},
     "output_type": "execute_result"
    }
   ],
   "source": [
    "n.shape"
   ]
  },
  {
   "cell_type": "code",
   "execution_count": 7,
   "id": "2013cd53",
   "metadata": {},
   "outputs": [
    {
     "data": {
      "text/plain": [
       "(74.0, 83.0)"
      ]
     },
     "execution_count": 7,
     "metadata": {},
     "output_type": "execute_result"
    }
   ],
   "source": [
    "#to find quantile range\n",
    "\n",
    "q1=n[\"Your Matric (grade 12) Average/ GPA (in %)\"].quantile(0.25)\n",
    "q3=n[\"Your Matric (grade 12) Average/ GPA (in %)\"].quantile(0.75)\n",
    "q1,q3"
   ]
  },
  {
   "cell_type": "code",
   "execution_count": 8,
   "id": "8e4e5fb4",
   "metadata": {},
   "outputs": [],
   "source": [
    "#IQR(Inter quantile range) Fromula\n",
    "\n",
    "IQR=q3-q1"
   ]
  },
  {
   "cell_type": "code",
   "execution_count": 9,
   "id": "9430eaab",
   "metadata": {},
   "outputs": [
    {
     "data": {
      "text/plain": [
       "(96.5, 60.5)"
      ]
     },
     "execution_count": 9,
     "metadata": {},
     "output_type": "execute_result"
    }
   ],
   "source": [
    "#to find the miniumum and maximum range\n",
    "\n",
    "min_range=q1-(1.5*IQR)\n",
    "max_range=q3+(1.5*IQR)\n",
    "max_range,min_range"
   ]
  },
  {
   "cell_type": "code",
   "execution_count": 10,
   "id": "3f10686a",
   "metadata": {},
   "outputs": [],
   "source": [
    "#Adjusting the values \n",
    "\n",
    "new_n=n[n[\"Your Matric (grade 12) Average/ GPA (in %)\"]<=max_range]"
   ]
  },
  {
   "cell_type": "code",
   "execution_count": 11,
   "id": "f2b6fa26",
   "metadata": {},
   "outputs": [
    {
     "data": {
      "text/plain": [
       "(396, 17)"
      ]
     },
     "execution_count": 11,
     "metadata": {},
     "output_type": "execute_result"
    }
   ],
   "source": [
    "new_n.shape"
   ]
  },
  {
   "cell_type": "code",
   "execution_count": 12,
   "id": "999af799",
   "metadata": {},
   "outputs": [
    {
     "data": {
      "image/png": "[encoded data removed]",
      "text/plain": [
       "<Figure size 1500x500 with 1 Axes>"
      ]
     },
     "metadata": {},
     "output_type": "display_data"
    }
   ],
   "source": [
    "plt.figure(figsize=(15,5))\n",
    "sns.boxplot(x=\"Your Matric (grade 12) Average/ GPA (in %)\",data=new_n)\n",
    "plt.show()"
   ]
  },
  {
   "cell_type": "code",
   "execution_count": 13,
   "id": "567e631f",
   "metadata": {},
   "outputs": [
    {
     "name": "stderr",
     "output_type": "stream",
     "text": [
      "C:\\Users\\tonyf\\AppData\\Local\\Temp\\ipykernel_12420\\2970255620.py:2: UserWarning: \n",
      "\n",
      "`distplot` is a deprecated function and will be removed in seaborn v0.14.0.\n",
      "\n",
      "Please adapt your code to use either `displot` (a figure-level function with\n",
      "similar flexibility) or `histplot` (an axes-level function for histograms).\n",
      "\n",
      "For a guide to updating your code to use the new functions, please see\n",
      "https://gist.github.com/mwaskom/de44147ed2974457ad6372750bbe5751\n",
      "\n",
      "  sns.distplot(new_n[\"Your Matric (grade 12) Average/ GPA (in %)\"])\n"
     ]
    },
    {
     "data": {
      "image/png": "[encoded data removed]",
      "text/plain": [
       "<Figure size 1500x500 with 1 Axes>"
      ]
     },
     "metadata": {},
     "output_type": "display_data"
    }
   ],
   "source": [
    "plt.figure(figsize=(15,5))\n",
    "sns.distplot(new_n[\"Your Matric (grade 12) Average/ GPA (in %)\"])\n",
    "plt.show()"
   ]
  },
  {
   "cell_type": "code",
   "execution_count": 14,
   "id": "9625c59c",
   "metadata": {},
   "outputs": [
    {
     "data": {
      "text/html": [
       "<div>\n",
       "<style scoped>\n",
       "    .dataframe tbody tr th:only-of-type {\n",
       "        vertical-align: middle;\n",
       "    }\n",
       "\n",
       "    .dataframe tbody tr th {\n",
       "        vertical-align: top;\n",
       "    }\n",
       "\n",
       "    .dataframe thead th {\n",
       "        text-align: right;\n",
       "    }\n",
       "</style>\n",
       "<table border=\"1\" class=\"dataframe\">\n",
       "  <thead>\n",
       "    <tr style=\"text-align: right;\">\n",
       "      <th></th>\n",
       "      <th>Movie Name</th>\n",
       "      <th>Release Year</th>\n",
       "      <th>Duration</th>\n",
       "      <th>IMDB Rating</th>\n",
       "      <th>Metascore</th>\n",
       "      <th>Votes</th>\n",
       "      <th>Genre</th>\n",
       "      <th>Director</th>\n",
       "      <th>Cast</th>\n",
       "      <th>Gross</th>\n",
       "    </tr>\n",
       "  </thead>\n",
       "  <tbody>\n",
       "    <tr>\n",
       "      <th>0</th>\n",
       "      <td>The Godfather</td>\n",
       "      <td>1972</td>\n",
       "      <td>175</td>\n",
       "      <td>9.2</td>\n",
       "      <td>100.0</td>\n",
       "      <td>2,002,655</td>\n",
       "      <td>Crime, Drama</td>\n",
       "      <td>Francis Ford Coppola</td>\n",
       "      <td>Marlon Brando</td>\n",
       "      <td>$134.97M</td>\n",
       "    </tr>\n",
       "    <tr>\n",
       "      <th>1</th>\n",
       "      <td>The Godfather Part II</td>\n",
       "      <td>1974</td>\n",
       "      <td>202</td>\n",
       "      <td>9.0</td>\n",
       "      <td>90.0</td>\n",
       "      <td>1,358,608</td>\n",
       "      <td>Crime, Drama</td>\n",
       "      <td>Francis Ford Coppola</td>\n",
       "      <td>Al Pacino</td>\n",
       "      <td>$57.30M</td>\n",
       "    </tr>\n",
       "  </tbody>\n",
       "</table>\n",
       "</div>"
      ],
      "text/plain": [
       "              Movie Name Release Year  Duration  IMDB Rating  Metascore  \\\n",
       "0          The Godfather         1972       175          9.2      100.0   \n",
       "1  The Godfather Part II         1974       202          9.0       90.0   \n",
       "\n",
       "       Votes         Genre              Director           Cast     Gross  \n",
       "0  2,002,655  Crime, Drama  Francis Ford Coppola  Marlon Brando  $134.97M  \n",
       "1  1,358,608  Crime, Drama  Francis Ford Coppola      Al Pacino   $57.30M  "
      ]
     },
     "execution_count": 14,
     "metadata": {},
     "output_type": "execute_result"
    }
   ],
   "source": [
    "# direct method\n",
    "\n",
    "# Also reffer gallery    \n",
    "\n",
    "import pandas as pd\n",
    "import seaborn as sns\n",
    "from matplotlib import pyplot as plt\n",
    "m=pd.read_csv(\"imdb.csv\")\n",
    "m.head(2)"
   ]
  },
  {
   "cell_type": "code",
   "execution_count": 15,
   "id": "611a93d5",
   "metadata": {},
   "outputs": [
    {
     "data": {
      "text/plain": [
       "(2000, 10)"
      ]
     },
     "execution_count": 15,
     "metadata": {},
     "output_type": "execute_result"
    }
   ],
   "source": [
    "m.shape"
   ]
  },
  {
   "cell_type": "code",
   "execution_count": 16,
   "id": "a6b9d0a0",
   "metadata": {},
   "outputs": [
    {
     "data": {
      "text/plain": [
       "Movie Name       0\n",
       "Release Year     0\n",
       "Duration         0\n",
       "IMDB Rating      0\n",
       "Metascore       81\n",
       "Votes            0\n",
       "Genre            0\n",
       "Director         0\n",
       "Cast             0\n",
       "Gross           97\n",
       "dtype: int64"
      ]
     },
     "execution_count": 16,
     "metadata": {},
     "output_type": "execute_result"
    }
   ],
   "source": [
    "m.isnull().sum()"
   ]
  },
  {
   "cell_type": "code",
   "execution_count": 17,
   "id": "d7ccfe5b",
   "metadata": {},
   "outputs": [
    {
     "data": {
      "text/html": [
       "<div>\n",
       "<style scoped>\n",
       "    .dataframe tbody tr th:only-of-type {\n",
       "        vertical-align: middle;\n",
       "    }\n",
       "\n",
       "    .dataframe tbody tr th {\n",
       "        vertical-align: top;\n",
       "    }\n",
       "\n",
       "    .dataframe thead th {\n",
       "        text-align: right;\n",
       "    }\n",
       "</style>\n",
       "<table border=\"1\" class=\"dataframe\">\n",
       "  <thead>\n",
       "    <tr style=\"text-align: right;\">\n",
       "      <th></th>\n",
       "      <th>Duration</th>\n",
       "      <th>IMDB Rating</th>\n",
       "      <th>Metascore</th>\n",
       "    </tr>\n",
       "  </thead>\n",
       "  <tbody>\n",
       "    <tr>\n",
       "      <th>count</th>\n",
       "      <td>2000.000000</td>\n",
       "      <td>2000.000000</td>\n",
       "      <td>1919.000000</td>\n",
       "    </tr>\n",
       "    <tr>\n",
       "      <th>mean</th>\n",
       "      <td>113.939000</td>\n",
       "      <td>6.922600</td>\n",
       "      <td>61.044294</td>\n",
       "    </tr>\n",
       "    <tr>\n",
       "      <th>std</th>\n",
       "      <td>22.946035</td>\n",
       "      <td>0.955618</td>\n",
       "      <td>17.937722</td>\n",
       "    </tr>\n",
       "    <tr>\n",
       "      <th>min</th>\n",
       "      <td>50.000000</td>\n",
       "      <td>1.500000</td>\n",
       "      <td>9.000000</td>\n",
       "    </tr>\n",
       "    <tr>\n",
       "      <th>25%</th>\n",
       "      <td>98.000000</td>\n",
       "      <td>6.400000</td>\n",
       "      <td>48.000000</td>\n",
       "    </tr>\n",
       "    <tr>\n",
       "      <th>50%</th>\n",
       "      <td>110.000000</td>\n",
       "      <td>7.000000</td>\n",
       "      <td>61.000000</td>\n",
       "    </tr>\n",
       "    <tr>\n",
       "      <th>75%</th>\n",
       "      <td>125.000000</td>\n",
       "      <td>7.600000</td>\n",
       "      <td>74.000000</td>\n",
       "    </tr>\n",
       "    <tr>\n",
       "      <th>max</th>\n",
       "      <td>271.000000</td>\n",
       "      <td>9.300000</td>\n",
       "      <td>100.000000</td>\n",
       "    </tr>\n",
       "  </tbody>\n",
       "</table>\n",
       "</div>"
      ],
      "text/plain": [
       "          Duration  IMDB Rating    Metascore\n",
       "count  2000.000000  2000.000000  1919.000000\n",
       "mean    113.939000     6.922600    61.044294\n",
       "std      22.946035     0.955618    17.937722\n",
       "min      50.000000     1.500000     9.000000\n",
       "25%      98.000000     6.400000    48.000000\n",
       "50%     110.000000     7.000000    61.000000\n",
       "75%     125.000000     7.600000    74.000000\n",
       "max     271.000000     9.300000   100.000000"
      ]
     },
     "execution_count": 17,
     "metadata": {},
     "output_type": "execute_result"
    }
   ],
   "source": [
    "m.describe()"
   ]
  },
  {
   "cell_type": "code",
   "execution_count": 18,
   "id": "f0470626",
   "metadata": {},
   "outputs": [
    {
     "data": {
      "image/png": "[encoded data removed]",
      "text/plain": [
       "<Figure size 1500x500 with 1 Axes>"
      ]
     },
     "metadata": {},
     "output_type": "display_data"
    }
   ],
   "source": [
    "plt.figure(figsize=(15,5))\n",
    "sns.boxplot(x=\"Duration\",data=m)\n",
    "plt.show()"
   ]
  },
  {
   "cell_type": "code",
   "execution_count": 19,
   "id": "7d2b6af6",
   "metadata": {},
   "outputs": [
    {
     "name": "stderr",
     "output_type": "stream",
     "text": [
      "C:\\Users\\tonyf\\AppData\\Local\\Temp\\ipykernel_12420\\3154186765.py:2: UserWarning: \n",
      "\n",
      "`distplot` is a deprecated function and will be removed in seaborn v0.14.0.\n",
      "\n",
      "Please adapt your code to use either `displot` (a figure-level function with\n",
      "similar flexibility) or `histplot` (an axes-level function for histograms).\n",
      "\n",
      "For a guide to updating your code to use the new functions, please see\n",
      "https://gist.github.com/mwaskom/de44147ed2974457ad6372750bbe5751\n",
      "\n",
      "  sns.distplot(m[\"Duration\"])\n"
     ]
    },
    {
     "data": {
      "image/png": "[encoded data removed]",
      "text/plain": [
       "<Figure size 1500x500 with 1 Axes>"
      ]
     },
     "metadata": {},
     "output_type": "display_data"
    }
   ],
   "source": [
    "plt.figure(figsize=(15,5))\n",
    "sns.distplot(m[\"Duration\"])\n",
    "plt.show()"
   ]
  },
  {
   "cell_type": "code",
   "execution_count": 20,
   "id": "376adb0f",
   "metadata": {},
   "outputs": [
    {
     "data": {
      "text/plain": [
       "(182.77710611446759, 45.100893885532386)"
      ]
     },
     "execution_count": 20,
     "metadata": {},
     "output_type": "execute_result"
    }
   ],
   "source": [
    "#direct method formula\n",
    "\n",
    "max_range1=m[\"Duration\"].mean()+(3*m[\"Duration\"].std())\n",
    "min_range1=m[\"Duration\"].mean()-(3*m[\"Duration\"].std())\n",
    "max_range1,min_range1"
   ]
  },
  {
   "cell_type": "code",
   "execution_count": 21,
   "id": "682fe1c9",
   "metadata": {},
   "outputs": [],
   "source": [
    "new_m=m[m[\"Duration\"]<=max_range1]"
   ]
  },
  {
   "cell_type": "code",
   "execution_count": 22,
   "id": "a51a148e",
   "metadata": {},
   "outputs": [
    {
     "data": {
      "text/plain": [
       "0       175\n",
       "2       124\n",
       "4       113\n",
       "5       138\n",
       "6       166\n",
       "       ... \n",
       "1995    105\n",
       "1996    101\n",
       "1997    108\n",
       "1998     90\n",
       "1999     89\n",
       "Name: Duration, Length: 1968, dtype: int64"
      ]
     },
     "execution_count": 22,
     "metadata": {},
     "output_type": "execute_result"
    }
   ],
   "source": [
    "new_m[\"Duration\"]"
   ]
  },
  {
   "cell_type": "code",
   "execution_count": 23,
   "id": "b54d3e0a",
   "metadata": {},
   "outputs": [
    {
     "data": {
      "text/plain": [
       "(1968, 10)"
      ]
     },
     "execution_count": 23,
     "metadata": {},
     "output_type": "execute_result"
    }
   ],
   "source": [
    "new_m.shape"
   ]
  },
  {
   "cell_type": "code",
   "execution_count": 24,
   "id": "2d6ad999",
   "metadata": {},
   "outputs": [
    {
     "data": {
      "image/png": "[encoded data removed]",
      "text/plain": [
       "<Figure size 1500x500 with 1 Axes>"
      ]
     },
     "metadata": {},
     "output_type": "display_data"
    }
   ],
   "source": [
    "#reduced outliers as boxplot\n",
    "\n",
    "plt.figure(figsize=(15,5))\n",
    "sns.boxplot(x=\"Duration\",data=new_m)\n",
    "plt.show()"
   ]
  },
  {
   "cell_type": "code",
   "execution_count": 25,
   "id": "e0c36f62",
   "metadata": {},
   "outputs": [],
   "source": [
    "#z-score method\n",
    "#do check in gallery\n",
    "\n",
    "\n",
    "# z = ( x - mean(x) ) / std(x)"
   ]
  },
  {
   "cell_type": "code",
   "execution_count": 26,
   "id": "9bbdc66c",
   "metadata": {},
   "outputs": [],
   "source": [
    "z_score=(m[\"Duration\"]-m[\"Duration\"].mean())/m[\"Duration\"].std()"
   ]
  },
  {
   "cell_type": "code",
   "execution_count": 27,
   "id": "7b64ad36",
   "metadata": {},
   "outputs": [],
   "source": [
    "m[\"z_score\"]=z_score"
   ]
  },
  {
   "cell_type": "code",
   "execution_count": 28,
   "id": "33eacfec",
   "metadata": {},
   "outputs": [
    {
     "data": {
      "text/html": [
       "<div>\n",
       "<style scoped>\n",
       "    .dataframe tbody tr th:only-of-type {\n",
       "        vertical-align: middle;\n",
       "    }\n",
       "\n",
       "    .dataframe tbody tr th {\n",
       "        vertical-align: top;\n",
       "    }\n",
       "\n",
       "    .dataframe thead th {\n",
       "        text-align: right;\n",
       "    }\n",
       "</style>\n",
       "<table border=\"1\" class=\"dataframe\">\n",
       "  <thead>\n",
       "    <tr style=\"text-align: right;\">\n",
       "      <th></th>\n",
       "      <th>Movie Name</th>\n",
       "      <th>Release Year</th>\n",
       "      <th>Duration</th>\n",
       "      <th>IMDB Rating</th>\n",
       "      <th>Metascore</th>\n",
       "      <th>Votes</th>\n",
       "      <th>Genre</th>\n",
       "      <th>Director</th>\n",
       "      <th>Cast</th>\n",
       "      <th>Gross</th>\n",
       "      <th>z_score</th>\n",
       "    </tr>\n",
       "  </thead>\n",
       "  <tbody>\n",
       "    <tr>\n",
       "      <th>0</th>\n",
       "      <td>The Godfather</td>\n",
       "      <td>1972</td>\n",
       "      <td>175</td>\n",
       "      <td>9.2</td>\n",
       "      <td>100.0</td>\n",
       "      <td>2,002,655</td>\n",
       "      <td>Crime, Drama</td>\n",
       "      <td>Francis Ford Coppola</td>\n",
       "      <td>Marlon Brando</td>\n",
       "      <td>$134.97M</td>\n",
       "      <td>2.661070</td>\n",
       "    </tr>\n",
       "    <tr>\n",
       "      <th>1</th>\n",
       "      <td>The Godfather Part II</td>\n",
       "      <td>1974</td>\n",
       "      <td>202</td>\n",
       "      <td>9.0</td>\n",
       "      <td>90.0</td>\n",
       "      <td>1,358,608</td>\n",
       "      <td>Crime, Drama</td>\n",
       "      <td>Francis Ford Coppola</td>\n",
       "      <td>Al Pacino</td>\n",
       "      <td>$57.30M</td>\n",
       "      <td>3.837744</td>\n",
       "    </tr>\n",
       "    <tr>\n",
       "      <th>2</th>\n",
       "      <td>Ordinary People</td>\n",
       "      <td>1980</td>\n",
       "      <td>124</td>\n",
       "      <td>7.7</td>\n",
       "      <td>86.0</td>\n",
       "      <td>56,476</td>\n",
       "      <td>Drama</td>\n",
       "      <td>Robert Redford</td>\n",
       "      <td>Donald Sutherland</td>\n",
       "      <td>$54.80M</td>\n",
       "      <td>0.438464</td>\n",
       "    </tr>\n",
       "    <tr>\n",
       "      <th>3</th>\n",
       "      <td>Lawrence of Arabia</td>\n",
       "      <td>1962</td>\n",
       "      <td>218</td>\n",
       "      <td>8.3</td>\n",
       "      <td>100.0</td>\n",
       "      <td>313,044</td>\n",
       "      <td>Adventure, Biography, Drama</td>\n",
       "      <td>David Lean</td>\n",
       "      <td>Peter O'Toole</td>\n",
       "      <td>$44.82M</td>\n",
       "      <td>4.535032</td>\n",
       "    </tr>\n",
       "    <tr>\n",
       "      <th>4</th>\n",
       "      <td>Straw Dogs</td>\n",
       "      <td>1971</td>\n",
       "      <td>113</td>\n",
       "      <td>7.4</td>\n",
       "      <td>73.0</td>\n",
       "      <td>64,331</td>\n",
       "      <td>Crime, Drama, Thriller</td>\n",
       "      <td>Sam Peckinpah</td>\n",
       "      <td>Dustin Hoffman</td>\n",
       "      <td>NaN</td>\n",
       "      <td>-0.040922</td>\n",
       "    </tr>\n",
       "    <tr>\n",
       "      <th>5</th>\n",
       "      <td>Close Encounters of the Third Kind</td>\n",
       "      <td>1977</td>\n",
       "      <td>138</td>\n",
       "      <td>7.6</td>\n",
       "      <td>90.0</td>\n",
       "      <td>216,050</td>\n",
       "      <td>Drama, Sci-Fi</td>\n",
       "      <td>Steven Spielberg</td>\n",
       "      <td>Richard Dreyfuss</td>\n",
       "      <td>$132.09M</td>\n",
       "      <td>1.048591</td>\n",
       "    </tr>\n",
       "    <tr>\n",
       "      <th>6</th>\n",
       "      <td>Once Upon a Time in the West</td>\n",
       "      <td>1968</td>\n",
       "      <td>166</td>\n",
       "      <td>8.5</td>\n",
       "      <td>82.0</td>\n",
       "      <td>348,110</td>\n",
       "      <td>Western</td>\n",
       "      <td>Sergio Leone</td>\n",
       "      <td>Henry Fonda</td>\n",
       "      <td>$5.32M</td>\n",
       "      <td>2.268845</td>\n",
       "    </tr>\n",
       "    <tr>\n",
       "      <th>7</th>\n",
       "      <td>The Dirty Dozen</td>\n",
       "      <td>1967</td>\n",
       "      <td>150</td>\n",
       "      <td>7.7</td>\n",
       "      <td>73.0</td>\n",
       "      <td>78,858</td>\n",
       "      <td>Action, Adventure, War</td>\n",
       "      <td>Robert Aldrich</td>\n",
       "      <td>Lee Marvin</td>\n",
       "      <td>$45.30M</td>\n",
       "      <td>1.571557</td>\n",
       "    </tr>\n",
       "    <tr>\n",
       "      <th>8</th>\n",
       "      <td>Rosemary's Baby</td>\n",
       "      <td>1968</td>\n",
       "      <td>137</td>\n",
       "      <td>8.0</td>\n",
       "      <td>96.0</td>\n",
       "      <td>234,034</td>\n",
       "      <td>Drama, Horror</td>\n",
       "      <td>Roman Polanski</td>\n",
       "      <td>Mia Farrow</td>\n",
       "      <td>NaN</td>\n",
       "      <td>1.005010</td>\n",
       "    </tr>\n",
       "    <tr>\n",
       "      <th>9</th>\n",
       "      <td>Cabaret</td>\n",
       "      <td>1972</td>\n",
       "      <td>124</td>\n",
       "      <td>7.8</td>\n",
       "      <td>80.0</td>\n",
       "      <td>59,119</td>\n",
       "      <td>Drama, Music, Musical</td>\n",
       "      <td>Bob Fosse</td>\n",
       "      <td>Liza Minnelli</td>\n",
       "      <td>$42.77M</td>\n",
       "      <td>0.438464</td>\n",
       "    </tr>\n",
       "  </tbody>\n",
       "</table>\n",
       "</div>"
      ],
      "text/plain": [
       "                           Movie Name Release Year  Duration  IMDB Rating  \\\n",
       "0                       The Godfather         1972       175          9.2   \n",
       "1               The Godfather Part II         1974       202          9.0   \n",
       "2                     Ordinary People         1980       124          7.7   \n",
       "3                  Lawrence of Arabia         1962       218          8.3   \n",
       "4                          Straw Dogs         1971       113          7.4   \n",
       "5  Close Encounters of the Third Kind         1977       138          7.6   \n",
       "6        Once Upon a Time in the West         1968       166          8.5   \n",
       "7                     The Dirty Dozen         1967       150          7.7   \n",
       "8                     Rosemary's Baby         1968       137          8.0   \n",
       "9                             Cabaret         1972       124          7.8   \n",
       "\n",
       "   Metascore      Votes                        Genre              Director  \\\n",
       "0      100.0  2,002,655                 Crime, Drama  Francis Ford Coppola   \n",
       "1       90.0  1,358,608                 Crime, Drama  Francis Ford Coppola   \n",
       "2       86.0     56,476                        Drama        Robert Redford   \n",
       "3      100.0    313,044  Adventure, Biography, Drama            David Lean   \n",
       "4       73.0     64,331       Crime, Drama, Thriller         Sam Peckinpah   \n",
       "5       90.0    216,050                Drama, Sci-Fi      Steven Spielberg   \n",
       "6       82.0    348,110                      Western          Sergio Leone   \n",
       "7       73.0     78,858       Action, Adventure, War        Robert Aldrich   \n",
       "8       96.0    234,034                Drama, Horror        Roman Polanski   \n",
       "9       80.0     59,119        Drama, Music, Musical             Bob Fosse   \n",
       "\n",
       "                Cast     Gross   z_score  \n",
       "0      Marlon Brando  $134.97M  2.661070  \n",
       "1          Al Pacino   $57.30M  3.837744  \n",
       "2  Donald Sutherland   $54.80M  0.438464  \n",
       "3      Peter O'Toole   $44.82M  4.535032  \n",
       "4     Dustin Hoffman       NaN -0.040922  \n",
       "5   Richard Dreyfuss  $132.09M  1.048591  \n",
       "6        Henry Fonda    $5.32M  2.268845  \n",
       "7         Lee Marvin   $45.30M  1.571557  \n",
       "8         Mia Farrow       NaN  1.005010  \n",
       "9      Liza Minnelli   $42.77M  0.438464  "
      ]
     },
     "execution_count": 28,
     "metadata": {},
     "output_type": "execute_result"
    }
   ],
   "source": [
    "m.head(10)"
   ]
  },
  {
   "cell_type": "code",
   "execution_count": 29,
   "id": "883838f7",
   "metadata": {},
   "outputs": [],
   "source": [
    "new_m1=m[m[\"z_score\"]<3]"
   ]
  },
  {
   "cell_type": "code",
   "execution_count": 30,
   "id": "8ce71865",
   "metadata": {},
   "outputs": [
    {
     "data": {
      "image/png": "[encoded data removed]",
      "text/plain": [
       "<Figure size 1500x500 with 1 Axes>"
      ]
     },
     "metadata": {},
     "output_type": "display_data"
    }
   ],
   "source": [
    "plt.figure(figsize=(15,5))\n",
    "sns.boxplot(x=\"Duration\",data=new_m1)\n",
    "plt.show()"
   ]
  },
  {
   "cell_type": "code",
   "execution_count": null,
   "id": "6c364775",
   "metadata": {},
   "outputs": [],
   "source": []
  }
 ],
 "metadata": {
  "kernelspec": {
   "display_name": "Python 3 (ipykernel)",
   "language": "python",
   "name": "python3"
  },
  "language_info": {
   "codemirror_mode": {
    "name": "ipython",
    "version": 3
   },
   "file_extension": ".py",
   "mimetype": "text/x-python",
   "name": "python",
   "nbconvert_exporter": "python",
   "pygments_lexer": "ipython3",
   "version": "3.11.5"
  }
 },
 "nbformat": 4,
 "nbformat_minor": 5
}
