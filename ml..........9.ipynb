{
 "cells": [
  {
   "cell_type": "code",
   "execution_count": 57,
   "id": "698dde9a",
   "metadata": {},
   "outputs": [
    {
     "data": {
      "text/html": [
       "<div>\n",
       "<style scoped>\n",
       "    .dataframe tbody tr th:only-of-type {\n",
       "        vertical-align: middle;\n",
       "    }\n",
       "\n",
       "    .dataframe tbody tr th {\n",
       "        vertical-align: top;\n",
       "    }\n",
       "\n",
       "    .dataframe thead th {\n",
       "        text-align: right;\n",
       "    }\n",
       "</style>\n",
       "<table border=\"1\" class=\"dataframe\">\n",
       "  <thead>\n",
       "    <tr style=\"text-align: right;\">\n",
       "      <th></th>\n",
       "      <th>Timestamp</th>\n",
       "      <th>Your Sex?</th>\n",
       "      <th>Your Matric (grade 12) Average/ GPA (in %)</th>\n",
       "      <th>What year were you in last year (2023) ?</th>\n",
       "      <th>What faculty does your degree fall under?</th>\n",
       "      <th>Your 2023 academic year average/GPA in % (Ignore if you are 2024 1st year student)</th>\n",
       "      <th>Your Accommodation Status Last Year (2023)</th>\n",
       "      <th>Monthly Allowance in 2023</th>\n",
       "      <th>Were you on scholarship/bursary in 2023?</th>\n",
       "      <th>Additional amount of studying (in hrs) per week</th>\n",
       "      <th>How often do you go out partying/socialising during the week?</th>\n",
       "      <th>On a night out, how many alcoholic drinks do you consume?</th>\n",
       "      <th>How many classes do you miss per week due to alcohol reasons, (i.e: being hungover or too tired?)</th>\n",
       "      <th>How many modules have you failed thus far into your studies?</th>\n",
       "      <th>Are you currently in a romantic relationship?</th>\n",
       "      <th>Do your parents approve alcohol consumption?</th>\n",
       "      <th>How strong is your relationship with your parent/s?</th>\n",
       "    </tr>\n",
       "  </thead>\n",
       "  <tbody>\n",
       "    <tr>\n",
       "      <th>0</th>\n",
       "      <td>2024/03/07 5:12:01 pm EET</td>\n",
       "      <td>Female</td>\n",
       "      <td>76.0</td>\n",
       "      <td>2nd Year</td>\n",
       "      <td>Arts &amp; Social Sciences</td>\n",
       "      <td>72.0</td>\n",
       "      <td>Private accommodation/ stay with family/friends</td>\n",
       "      <td>R 4001- R 5000</td>\n",
       "      <td>No</td>\n",
       "      <td>8+</td>\n",
       "      <td>Only weekends</td>\n",
       "      <td>8+</td>\n",
       "      <td>3</td>\n",
       "      <td>0</td>\n",
       "      <td>Yes</td>\n",
       "      <td>Yes</td>\n",
       "      <td>Very close</td>\n",
       "    </tr>\n",
       "    <tr>\n",
       "      <th>1</th>\n",
       "      <td>2024/03/07 5:12:08 pm EET</td>\n",
       "      <td>Male</td>\n",
       "      <td>89.0</td>\n",
       "      <td>2nd Year</td>\n",
       "      <td>Economic &amp; Management Sciences</td>\n",
       "      <td>75.0</td>\n",
       "      <td>Private accommodation/ stay with family/friends</td>\n",
       "      <td>R 7001 - R 8000</td>\n",
       "      <td>Yes (NSFAS, etc...)</td>\n",
       "      <td>8+</td>\n",
       "      <td>Only weekends</td>\n",
       "      <td>3-5</td>\n",
       "      <td>4+</td>\n",
       "      <td>0</td>\n",
       "      <td>No</td>\n",
       "      <td>Yes</td>\n",
       "      <td>Very close</td>\n",
       "    </tr>\n",
       "  </tbody>\n",
       "</table>\n",
       "</div>"
      ],
      "text/plain": [
       "                   Timestamp Your Sex?  \\\n",
       "0  2024/03/07 5:12:01 pm EET    Female   \n",
       "1  2024/03/07 5:12:08 pm EET      Male   \n",
       "\n",
       "   Your Matric (grade 12) Average/ GPA (in %)  \\\n",
       "0                                        76.0   \n",
       "1                                        89.0   \n",
       "\n",
       "  What year were you in last year (2023) ?  \\\n",
       "0                                 2nd Year   \n",
       "1                                 2nd Year   \n",
       "\n",
       "  What faculty does your degree fall under?  \\\n",
       "0                    Arts & Social Sciences   \n",
       "1            Economic & Management Sciences   \n",
       "\n",
       "   Your 2023 academic year average/GPA in % (Ignore if you are 2024 1st year student)  \\\n",
       "0                                               72.0                                    \n",
       "1                                               75.0                                    \n",
       "\n",
       "        Your Accommodation Status Last Year (2023) Monthly Allowance in 2023  \\\n",
       "0  Private accommodation/ stay with family/friends            R 4001- R 5000   \n",
       "1  Private accommodation/ stay with family/friends           R 7001 - R 8000   \n",
       "\n",
       "  Were you on scholarship/bursary in 2023?  \\\n",
       "0                                       No   \n",
       "1                      Yes (NSFAS, etc...)   \n",
       "\n",
       "  Additional amount of studying (in hrs) per week  \\\n",
       "0                                              8+   \n",
       "1                                              8+   \n",
       "\n",
       "  How often do you go out partying/socialising during the week?   \\\n",
       "0                                      Only weekends               \n",
       "1                                      Only weekends               \n",
       "\n",
       "  On a night out, how many alcoholic drinks do you consume?  \\\n",
       "0                                                 8+          \n",
       "1                                                3-5          \n",
       "\n",
       "  How many classes do you miss per week due to alcohol reasons, (i.e: being hungover or too tired?)  \\\n",
       "0                                                  3                                                  \n",
       "1                                                 4+                                                  \n",
       "\n",
       "  How many modules have you failed thus far into your studies?  \\\n",
       "0                                                  0             \n",
       "1                                                  0             \n",
       "\n",
       "  Are you currently in a romantic relationship?  \\\n",
       "0                                           Yes   \n",
       "1                                            No   \n",
       "\n",
       "  Do your parents approve alcohol consumption?  \\\n",
       "0                                          Yes   \n",
       "1                                          Yes   \n",
       "\n",
       "  How strong is your relationship with your parent/s?  \n",
       "0                                         Very close   \n",
       "1                                         Very close   "
      ]
     },
     "execution_count": 57,
     "metadata": {},
     "output_type": "execute_result"
    }
   ],
   "source": [
    "#training and testing of dataset\n",
    "\n",
    "import pandas as pd\n",
    "import numpy as np\n",
    "n=pd.read_csv(\"asd.csv\")\n",
    "n.head(2)"
   ]
  },
  {
   "cell_type": "code",
   "execution_count": 64,
   "id": "9add89c1",
   "metadata": {},
   "outputs": [],
   "source": [
    "for i in n.columns:\n",
    "    n[i].fillna(n[i].mode()[0],inplace=True)"
   ]
  },
  {
   "cell_type": "code",
   "execution_count": 66,
   "id": "9c509e8d",
   "metadata": {},
   "outputs": [],
   "source": [
    "#n.isnull().sum()"
   ]
  },
  {
   "cell_type": "code",
   "execution_count": 60,
   "id": "bb5da8bd",
   "metadata": {},
   "outputs": [],
   "source": [
    "input_data=n.iloc[:,:-4]\n",
    "output_data=n.iloc[:,13:-3]"
   ]
  },
  {
   "cell_type": "code",
   "execution_count": 61,
   "id": "1f4f95d1",
   "metadata": {},
   "outputs": [],
   "source": [
    "#input_data= x_train , x_test\n",
    "#output_data= y_train , y_test\n",
    "#therefore 4 variables\n",
    "from sklearn.model_selection import train_test_split\n",
    "x_train,x_test,y_test,y_train=train_test_split(input_data,output_data,test_size=0.25)"
   ]
  },
  {
   "cell_type": "code",
   "execution_count": 62,
   "id": "3a982883",
   "metadata": {},
   "outputs": [
    {
     "data": {
      "text/plain": [
       "((304, 13), (102, 13))"
      ]
     },
     "execution_count": 62,
     "metadata": {},
     "output_type": "execute_result"
    }
   ],
   "source": [
    "x_train.shape , x_test.shape"
   ]
  },
  {
   "cell_type": "code",
   "execution_count": 63,
   "id": "20aa8a14",
   "metadata": {},
   "outputs": [
    {
     "data": {
      "text/plain": [
       "((102, 1), (304, 1))"
      ]
     },
     "execution_count": 63,
     "metadata": {},
     "output_type": "execute_result"
    }
   ],
   "source": [
    "y_train.shape, y_test.shape"
   ]
  },
  {
   "cell_type": "code",
   "execution_count": null,
   "id": "ccda32e6",
   "metadata": {},
   "outputs": [],
   "source": []
  }
 ],
 "metadata": {
  "kernelspec": {
   "display_name": "Python 3 (ipykernel)",
   "language": "python",
   "name": "python3"
  },
  "language_info": {
   "codemirror_mode": {
    "name": "ipython",
    "version": 3
   },
   "file_extension": ".py",
   "mimetype": "text/x-python",
   "name": "python",
   "nbconvert_exporter": "python",
   "pygments_lexer": "ipython3",
   "version": "3.11.5"
  }
 },
 "nbformat": 4,
 "nbformat_minor": 5
}
