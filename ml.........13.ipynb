{
 "cells": [
  {
   "cell_type": "code",
   "execution_count": null,
   "id": "ca119b60",
   "metadata": {},
   "outputs": [],
   "source": [
    "#TO Understand this concept go through the screen shots \n",
    "\n",
    "\n",
    "# Cost Function \n",
    "# 2 Types of cost function\n",
    "# 1. Regression cost function\n",
    "# 2. classification cost function\n"
   ]
  },
  {
   "cell_type": "code",
   "execution_count": 2,
   "id": "39e54550",
   "metadata": {},
   "outputs": [],
   "source": [
    "# Regression cost function - used to predict continous variables\n",
    "# MSE (mean square Error)\n",
    "# RMSE (Root mean square Error)\n",
    "# MAE (Mean absolute Error)\n",
    "# R^2 Accuracy\n",
    "\n",
    "\n",
    "# Classification cost function\n",
    "# 1.Binary classification cost function\n",
    "# 2.Multi class classification cost function"
   ]
  },
  {
   "cell_type": "code",
   "execution_count": 1,
   "id": "c3f3d73c",
   "metadata": {},
   "outputs": [],
   "source": [
    "# refer videos and images "
   ]
  }
 ],
 "metadata": {
  "kernelspec": {
   "display_name": "Python 3 (ipykernel)",
   "language": "python",
   "name": "python3"
  },
  "language_info": {
   "codemirror_mode": {
    "name": "ipython",
    "version": 3
   },
   "file_extension": ".py",
   "mimetype": "text/x-python",
   "name": "python",
   "nbconvert_exporter": "python",
   "pygments_lexer": "ipython3",
   "version": "3.11.5"
  }
 },
 "nbformat": 4,
 "nbformat_minor": 5
}
