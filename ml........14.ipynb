{
 "cells": [
  {
   "cell_type": "code",
   "execution_count": 1,
   "id": "5048e479",
   "metadata": {},
   "outputs": [],
   "source": [
    "# how to find the BEST FIT LINE\n",
    "# m and c (by changing the values(from 0 to so on...) of m & c we get best fit line)"
   ]
  },
  {
   "cell_type": "code",
   "execution_count": null,
   "id": "3ecf494a",
   "metadata": {},
   "outputs": [],
   "source": [
    "# refer videos and photos"
   ]
  }
 ],
 "metadata": {
  "kernelspec": {
   "display_name": "Python 3 (ipykernel)",
   "language": "python",
   "name": "python3"
  },
  "language_info": {
   "codemirror_mode": {
    "name": "ipython",
    "version": 3
   },
   "file_extension": ".py",
   "mimetype": "text/x-python",
   "name": "python",
   "nbconvert_exporter": "python",
   "pygments_lexer": "ipython3",
   "version": "3.11.5"
  }
 },
 "nbformat": 4,
 "nbformat_minor": 5
}
